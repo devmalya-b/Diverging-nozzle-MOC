{
 "cells": [
  {
   "cell_type": "markdown",
   "metadata": {
    "collapsed": true,
    "pycharm": {
     "name": "#%% md\n"
    }
   },
   "source": [
    "# Minimum Length Nozzle w/ MOC\n",
    "## Resource:\n",
    "Aerothermodynamics of High Speed Flows, Lec 5\n",
    "\n",
    "###### Von Karman Institute of Fluid Dynamics"
   ]
  },
  {
   "cell_type": "code",
   "execution_count": 44,
   "outputs": [],
   "source": [
    "import pandas as pd\n",
    "import numpy as np\n",
    "import math\n",
    "import matplotlib.pyplot as plt\n",
    "from scipy.optimize import fsolve\n",
    "\n",
    "parameterfile= \"PARAMS XLS ADDRESS\"\n",
    "solidworksinputfile= \"D:\\\\solidworksinput.txt\"\n",
    "file= open(solidworksinputfile,\"w+\")"
   ],
   "metadata": {
    "collapsed": false,
    "pycharm": {
     "name": "#%%\n"
    }
   }
  },
  {
   "cell_type": "code",
   "execution_count": 45,
   "outputs": [
    {
     "name": "stdout",
     "output_type": "stream",
     "text": [
      "                                  0                            1  \\\n",
      "PARAMETER  Chamber Pressure P1 (Pa)  Chamber Temperature T_1 (K)   \n",
      "VALUE                    2.1192e+06                         3000   \n",
      "\n",
      "                            2             3                         4    5  \n",
      "PARAMETER  Throat Radius (cm)  Altitude (m)  Coefficient of Heats (γ)    R  \n",
      "VALUE                      35         10000                       1.3  378  \n"
     ]
    }
   ],
   "source": [
    "params= pd.read_excel(parameterfile)\n",
    "params=params.transpose()\n",
    "print(params)\n"
   ],
   "metadata": {
    "collapsed": false,
    "pycharm": {
     "name": "#%%\n"
    }
   }
  },
  {
   "cell_type": "code",
   "execution_count": 46,
   "outputs": [
    {
     "name": "stdout",
     "output_type": "stream",
     "text": [
      "160125445.170864\n"
     ]
    }
   ],
   "source": [
    "\n",
    "p_1= params.iloc[1,0]    #CHAMBER PRESSURE\n",
    "T_1= params.iloc[1,1]    #CHAMBER TEMP\n",
    "ALT= params.iloc[1,3]    #Altitude\n",
    "g=   params.iloc[1,4]    #gamma\n",
    "R=   params.iloc[1,5]    #gas constant\n",
    "TR=  params.iloc[1,2]    #Throat radius\n",
    "\n",
    "Cf= np.sqrt(((2*(g**2)/(g-1)))*((2/(g+1))**((g+1)/(g-1))))\n",
    "FT=Cf*3.14*((TR/10)**2)*p_1\n",
    "print(FT)"
   ],
   "metadata": {
    "collapsed": false,
    "pycharm": {
     "name": "#%%\n"
    }
   }
  },
  {
   "cell_type": "markdown",
   "source": [
    "### EXIT CONDITIONS"
   ],
   "metadata": {
    "collapsed": false,
    "pycharm": {
     "name": "#%% md\n"
    }
   }
  },
  {
   "cell_type": "code",
   "execution_count": null,
   "outputs": [],
   "source": [
    "#exit Pressure / Temperature\n",
    "\n",
    "if ((11000>ALT) and (ALT<25000)):\n",
    "    T = -56.46           #T atm\n",
    "    p_o = 1000*(22.65*np.exp(1.73-0.000157*ALT))   #P atm\n",
    "elif ALT>=25000:\n",
    "    T = -131.21 + 0.00299*ALT\n",
    "    p_o = 1000*(2.488*((T+273.1)/216.6)**(-11.388))\n",
    "else:\n",
    "    T = 15.04 - (0.00649*ALT)\n",
    "    p_o = 1000*(101.29*((T+273.1)/288.08)**5.256)\n",
    "\n",
    "\n",
    "#exit parameters\n",
    "PR = p_o/p_1     #Pressure ratio\n",
    "TmpR = (p_o/p_1)**((g-1)/g)   #Temp ratio\n",
    "TT = (2*g*R*T_1)/(g-1)        #Critical temp\n",
    "p_t = ((2/(g+1))**(g/(g-1)))*2.068   #Critical P\n",
    "v_t = np.sqrt((2*g*R*T_1)/(g+1))     # Critical V\n",
    "v_e = np.sqrt(TT*(1-TmpR))           #Exit Velocity\n",
    "\n",
    "T_e = T_1*(p_o/p_1)**((g-1)/g)  #Exit T\n",
    "a_e = np.sqrt(g*R*T_e)  #exit Sound V\n",
    "\n",
    "#mach\n",
    "Me=v_e/a_e\n",
    "x=Me"
   ],
   "metadata": {
    "collapsed": false,
    "pycharm": {
     "name": "#%%\n"
    }
   }
  },
  {
   "cell_type": "markdown",
   "source": [
    "## Method of Characteristics"
   ],
   "metadata": {
    "collapsed": false,
    "pycharm": {
     "name": "#%% md\n"
    }
   }
  },
  {
   "cell_type": "code",
   "execution_count": null,
   "outputs": [],
   "source": [
    "#W max\n",
    "RTOD = 180/3.14 #conversion\n",
    "DTOR = 3.14/180 #conversion\n",
    "\n",
    "#Prendtl Meyer func\n",
    "\n",
    "def v_PM(x):\n",
    "    g=1.3\n",
    "    A = np.sqrt((g+1)/(g-1))\n",
    "    B = (g-1)/(g+1)\n",
    "    return A*np.arctan(np.sqrt(B*((x**2)-1))) - np.arctan(np.sqrt((x**2)-1))"
   ],
   "metadata": {
    "collapsed": false,
    "pycharm": {
     "name": "#%%\n"
    }
   }
  },
  {
   "cell_type": "code",
   "execution_count": 49,
   "outputs": [],
   "source": [
    "# Max wall angle\n",
    "w_max=0.5*v_PM(Me)*RTOD\n",
    "dw=((90-w_max) -(round((90-w_max)-1)))\n",
    "n=w_max*2\n",
    "\n",
    "sizen=int(round(n))\n",
    "n=sizen"
   ],
   "metadata": {
    "collapsed": false,
    "pycharm": {
     "name": "#%%\n"
    }
   }
  },
  {
   "cell_type": "code",
   "execution_count": 50,
   "outputs": [
    {
     "name": "stderr",
     "output_type": "stream",
     "text": [
      "<ipython-input-48-df6658a2c346>:13: RuntimeWarning: invalid value encountered in sqrt\n",
      "  return A*np.arctan(np.sqrt(B*((x**2)-1))) - np.arctan(np.sqrt((x**2)-1))\n"
     ]
    }
   ],
   "source": [
    "LR = np.zeros(sizen)\n",
    "SL= np.zeros(sizen)\n",
    "RR = np.zeros(sizen)\n",
    "P = np.zeros(sizen) #x axis points on centerline\n",
    "M= np.zeros(sizen)\n",
    "x= np.zeros(sizen)\n",
    "y=np.zeros(sizen)\n",
    "W_m= np.zeros(sizen)\n",
    "W_m[0]=dw*DTOR\n",
    "x_int= np.array([[1,1.01*Me]])\n",
    "xaxis=np.linspace(0,10,100)\n",
    "\n",
    "LR[0]=0\n",
    "SL[0]=0\n",
    "RR[0]=0\n",
    "P[0]=0\n",
    "M[0]=0\n",
    "\n",
    "def clip(x):\n",
    "    if x>1:\n",
    "        return (x%1)\n",
    "    elif x<(-1):\n",
    "        return (x%(-1))\n",
    "    else:\n",
    "        return x\n",
    "\n",
    "#calculating center line points\n",
    "\n",
    "for m in range(2,round(n)+1):\n",
    "    i = m-1\n",
    "    W_m[i] =(dw +(m-1))*DTOR\n",
    "    def func(xaxis):\n",
    "        return W_m[i]-v_PM(xaxis)\n",
    "    M[i]=fsolve(func,1)\n",
    "    P[i]= 0 + TR*np.tan(W_m[i])  #adding point to x axis points on centerline\n",
    "    #Rslopes\n",
    "    RR[i]= -TR/P[i]\n",
    "    SL[i]= -RR[i]\n",
    "    LR[i]= np.tan((W_m[i])+np.arcsin(clip(1/M[i])))"
   ],
   "metadata": {
    "collapsed": false,
    "pycharm": {
     "name": "#%%\n"
    }
   }
  },
  {
   "cell_type": "code",
   "execution_count": 51,
   "outputs": [
    {
     "name": "stdout",
     "output_type": "stream",
     "text": [
      "[0.         2.2021509  1.91559502 1.75332569 1.64787597 1.57442923\n",
      " 1.52132748 1.4822439  1.45339834 1.43237147 1.41753334 1.40774154\n",
      " 1.40217029 1.40020809 1.40139352 1.40537351 1.41187524 1.42068685\n",
      " 1.43164377 1.44461892 1.45951557 1.47626205 1.49480785 1.51512072\n",
      " 1.53718446 1.56099736 1.5865711  1.61392996 1.6431104  1.67416089\n",
      " 1.70714196 1.74212653 1.7792004  1.81846303 1.86002845 1.90402654\n",
      " 1.95060452 1.99992875 2.05218691 2.10759062 2.1663785  2.22881985\n",
      " 2.29521907 2.36592084 2.44131649 2.52185148 2.60803464 2.70044929\n",
      " 2.79976688 2.90676384 3.02234243 3.1475569  3.28364641 3.43207705\n",
      " 3.59459578 3.77330072 3.97073356 4.19000294 4.43495137 4.71038494\n",
      " 5.02239511 5.37881871 5.78991074 6.26935454 6.8358244 ]\n"
     ]
    }
   ],
   "source": [
    "print(LR)"
   ],
   "metadata": {
    "collapsed": false,
    "pycharm": {
     "name": "#%%\n"
    }
   }
  },
  {
   "cell_type": "code",
   "execution_count": 52,
   "outputs": [
    {
     "name": "stdout",
     "output_type": "stream",
     "text": [
      "[ 0.          1.02806957  1.63952725  2.25198517  2.86581964  3.48141035\n",
      "  4.09914131  4.71940182  5.34258748  5.96910119  6.59935426  7.23376749\n",
      "  7.87277237  8.51681229  9.16634383  9.82183814 10.48378241 11.15268137\n",
      " 11.82905899 12.51346024 13.20645299 13.90863005 14.62061138 15.34304651\n",
      " 16.07661709 16.82203973 17.58006907 18.35150111 19.13717687 19.9379864\n",
      " 20.75487317 21.5888389  22.4409489  23.31233794 24.20421676 25.11787928\n",
      " 26.05471062 27.01619599 28.00393069 29.0196312  30.06514767 31.14247792\n",
      " 32.25378318 33.40140597 34.58789017 35.81600396 37.08876579 38.4094741\n",
      " 39.78174135 41.20953303 42.69721269 44.24959393 45.87200083 47.57033824\n",
      " 49.35117403 51.22183573 53.19052451 55.26645027 57.4599926  59.78289351\n",
      " 62.24848961 64.87199328 67.67083557 70.66508719 73.87797891]\n"
     ]
    }
   ],
   "source": [
    "print(P)"
   ],
   "metadata": {
    "collapsed": false,
    "pycharm": {
     "name": "#%%\n"
    }
   }
  },
  {
   "cell_type": "code",
   "execution_count": 53,
   "outputs": [
    {
     "name": "stdout",
     "output_type": "stream",
     "text": [
      "[0.01192053 0.02936497 0.04680942 0.06425386 0.08169831 0.09914275\n",
      " 0.1165872  0.13403164 0.15147608 0.16892053 0.18636497 0.20380942\n",
      " 0.22125386 0.23869831 0.25614275 0.2735872  0.29103164 0.30847608\n",
      " 0.32592053 0.34336497 0.36080942 0.37825386 0.39569831 0.41314275\n",
      " 0.4305872  0.44803164 0.46547608 0.48292053 0.50036497 0.51780942\n",
      " 0.53525386 0.55269831 0.57014275 0.5875872  0.60503164 0.62247608\n",
      " 0.63992053 0.65736497 0.67480942 0.69225386 0.70969831 0.72714275\n",
      " 0.7445872  0.76203164 0.77947608 0.79692053 0.81436497 0.83180942\n",
      " 0.84925386 0.86669831 0.88414275 0.9015872  0.91903164 0.93647608\n",
      " 0.95392053 0.97136497 0.98880942 1.00625386 1.02369831 1.04114275\n",
      " 1.0585872  1.07603164 1.09347608 1.11092053 1.12836497]\n"
     ]
    }
   ],
   "source": [
    "print(W_m)"
   ],
   "metadata": {
    "collapsed": false,
    "pycharm": {
     "name": "#%%\n"
    }
   }
  },
  {
   "cell_type": "code",
   "execution_count": 54,
   "outputs": [
    {
     "name": "stdout",
     "output_type": "stream",
     "text": [
      "[  0.         -34.04438862 -21.34761712 -15.54184304 -12.21291094\n",
      " -10.0533969   -8.53837362  -7.41619411  -6.55113279  -5.86352935\n",
      "  -5.3035492   -4.83841927  -4.44570202  -4.10951877  -3.81831629\n",
      "  -3.56348776  -3.33848974  -3.13825876  -2.95881524  -2.79698815\n",
      "  -2.65021956  -2.51642325  -2.39388074  -2.28116365  -2.17707493\n",
      "  -2.08060381  -1.99089093  -1.90720093  -1.8289009   -1.75544307\n",
      "  -1.68635095  -1.62120808  -1.55964884  -1.50135092  -1.44602903\n",
      "  -1.39342974  -1.34332714  -1.29551918  -1.24982455  -1.20608011\n",
      "  -1.16413864  -1.1238669   -1.08514402  -1.04786008  -1.01191486\n",
      "  -0.97721678  -0.94368198  -0.91123351  -0.8798006   -0.84931804\n",
      "  -0.81972564  -0.79096771  -0.76299266  -0.7357526   -0.70920299\n",
      "  -0.68330234  -0.65801194  -0.6332956   -0.60911947  -0.58545176\n",
      "  -0.56226264  -0.53952404  -0.51720951  -0.49529409  -0.47375416]\n"
     ]
    }
   ],
   "source": [
    "print(RR)"
   ],
   "metadata": {
    "collapsed": false,
    "pycharm": {
     "name": "#%%\n"
    }
   }
  },
  {
   "cell_type": "code",
   "execution_count": 55,
   "outputs": [
    {
     "name": "stdout",
     "output_type": "stream",
     "text": [
      "[ 0.         34.04438862 21.34761712 15.54184304 12.21291094 10.0533969\n",
      "  8.53837362  7.41619411  6.55113279  5.86352935  5.3035492   4.83841927\n",
      "  4.44570202  4.10951877  3.81831629  3.56348776  3.33848974  3.13825876\n",
      "  2.95881524  2.79698815  2.65021956  2.51642325  2.39388074  2.28116365\n",
      "  2.17707493  2.08060381  1.99089093  1.90720093  1.8289009   1.75544307\n",
      "  1.68635095  1.62120808  1.55964884  1.50135092  1.44602903  1.39342974\n",
      "  1.34332714  1.29551918  1.24982455  1.20608011  1.16413864  1.1238669\n",
      "  1.08514402  1.04786008  1.01191486  0.97721678  0.94368198  0.91123351\n",
      "  0.8798006   0.84931804  0.81972564  0.79096771  0.76299266  0.7357526\n",
      "  0.70920299  0.68330234  0.65801194  0.6332956   0.60911947  0.58545176\n",
      "  0.56226264  0.53952404  0.51720951  0.49529409  0.47375416]\n"
     ]
    }
   ],
   "source": [
    "print(SL)"
   ],
   "metadata": {
    "collapsed": false,
    "pycharm": {
     "name": "#%%\n"
    }
   }
  },
  {
   "cell_type": "code",
   "execution_count": 56,
   "outputs": [
    {
     "name": "stdout",
     "output_type": "stream",
     "text": [
      "[  0.         -34.04438862 -21.34761712 -15.54184304 -12.21291094\n",
      " -10.0533969   -8.53837362  -7.41619411  -6.55113279  -5.86352935\n",
      "  -5.3035492   -4.83841927  -4.44570202  -4.10951877  -3.81831629\n",
      "  -3.56348776  -3.33848974  -3.13825876  -2.95881524  -2.79698815\n",
      "  -2.65021956  -2.51642325  -2.39388074  -2.28116365  -2.17707493\n",
      "  -2.08060381  -1.99089093  -1.90720093  -1.8289009   -1.75544307\n",
      "  -1.68635095  -1.62120808  -1.55964884  -1.50135092  -1.44602903\n",
      "  -1.39342974  -1.34332714  -1.29551918  -1.24982455  -1.20608011\n",
      "  -1.16413864  -1.1238669   -1.08514402  -1.04786008  -1.01191486\n",
      "  -0.97721678  -0.94368198  -0.91123351  -0.8798006   -0.84931804\n",
      "  -0.81972564  -0.79096771  -0.76299266  -0.7357526   -0.70920299\n",
      "  -0.68330234  -0.65801194  -0.6332956   -0.60911947  -0.58545176\n",
      "  -0.56226264  -0.53952404  -0.51720951  -0.49529409  -0.47375416]\n"
     ]
    }
   ],
   "source": [
    "print(RR)"
   ],
   "metadata": {
    "collapsed": false,
    "pycharm": {
     "name": "#%%\n"
    }
   }
  },
  {
   "cell_type": "code",
   "execution_count": 57,
   "outputs": [],
   "source": [
    "P=np.delete(P,0)\n",
    "LR=np.delete(LR,0)\n",
    "SL=np.delete(SL,0)\n",
    "RR=np.delete(RR,0)"
   ],
   "metadata": {
    "collapsed": false,
    "pycharm": {
     "name": "#%%\n"
    }
   }
  },
  {
   "cell_type": "markdown",
   "source": [
    "### Plotting"
   ],
   "metadata": {
    "collapsed": false,
    "pycharm": {
     "name": "#%% md\n"
    }
   }
  },
  {
   "cell_type": "code",
   "execution_count": null,
   "outputs": [],
   "source": [
    "l= P.size\n",
    "\n",
    "for j in range(1,l):\n",
    "    P1= np.array([[0,TR]])\n",
    "    P2= np.array([[P[j-1],0]])\n",
    "    plt.plot(P2, P1, 'ro')\n",
    "    plt.xlabel('Centerline')\n",
    "    plt.ylabel('Radius')\n",
    "    print('P1=',P1)\n",
    "    print('P2=',P2)\n",
    "\n",
    "plt.show()\n",
    "\n",
    "F= RR[round(n)-2]\n",
    "RR[63]\n",
    "for c in range(1, P.size - 1):\n",
    "   i=c-1\n",
    "   x[i]= (TR + SL[i]*P[i])/(SL[i]-F)\n",
    "   y[i]= F*x[i] + TR\n",
    "\n",
    "print(x)"
   ],
   "metadata": {
    "collapsed": false,
    "pycharm": {
     "name": "#%%\n"
    }
   }
  },
  {
   "cell_type": "markdown",
   "source": [
    "### WALL SELECTION"
   ],
   "metadata": {
    "collapsed": false,
    "pycharm": {
     "name": "#%% md\n"
    }
   }
  },
  {
   "cell_type": "code",
   "execution_count": null,
   "outputs": [],
   "source": [
    "WM=w_max*DTOR\n",
    "\n",
    "xw= np.zeros(l-1)\n",
    "yw= np.zeros(l-1)\n",
    "s= np.zeros(l-1)\n",
    "b= np.zeros(l-1)\n",
    "\n",
    "xw[0]=(TR+SL[0]*P[0])/(SL[0]-np.tan(WM))\n",
    "yw[0]=np.tan(WM)*xw[0]+TR\n",
    "X_P2= np.array([[P[0], xw]])\n",
    "Y_P2= np.array([[P[1], yw]])\n",
    "\n",
    "#Delta slopes\n",
    "\n",
    "DTW= np.tan(WM)/(l-1)\n",
    "s[0]= np.tan(WM)\n",
    "b[0]= TR\n",
    "\n",
    "X_plot= np.zeros(2)\n",
    "Y_plot=np.zeros(2)\n",
    "\n",
    "for k in range (2,l):\n",
    "    i=k-1\n",
    "    s[i] = np.tan(WM)-(k-1)*DTW\n",
    "    b[i] = yw[i-1]-s[i]*xw[i-1]\n",
    "    xw[i] = (b[i]+SL[i]*P[i])/(SL[i]-s[i])\n",
    "    yw[i] = s[i]*xw[i]+b[i]"
   ],
   "metadata": {
    "collapsed": false,
    "pycharm": {
     "name": "#%%\n"
    }
   }
  },
  {
   "cell_type": "code",
   "execution_count": 60,
   "outputs": [
    {
     "name": "stdout",
     "output_type": "stream",
     "text": [
      "[0.63218046 0.62214585 0.61211124 0.60207663 0.59204202 0.58200741\n",
      " 0.5719728  0.56193819 0.55190358 0.54186897 0.53183436 0.52179975\n",
      " 0.51176514 0.50173053 0.49169591 0.4816613  0.47162669 0.46159208\n",
      " 0.45155747 0.44152286 0.43148825 0.42145364 0.41141903 0.40138442\n",
      " 0.39134981 0.3813152  0.37128059 0.36124598 0.35121137 0.34117676\n",
      " 0.33114215 0.32110754 0.31107293 0.30103832 0.2910037  0.28096909\n",
      " 0.27093448 0.26089987 0.25086526 0.24083065 0.23079604 0.22076143\n",
      " 0.21072682 0.20069221 0.1906576  0.18062299 0.17058838 0.16055377\n",
      " 0.15051916 0.14048455 0.13044994 0.12041533 0.11038072 0.10034611\n",
      " 0.09031149 0.08027688 0.07024227 0.06020766 0.05017305 0.04013844\n",
      " 0.03010383 0.02006922 0.01003461]\n",
      "[35.         35.02102294 35.05492488 35.10201038 35.16259572 35.23700941\n",
      " 35.32559269 35.4287001  35.54670004 35.67997536 35.82892405 35.99395984\n",
      " 36.17551297 36.37403089 36.58997905 36.82384176 37.07612302 37.34734747\n",
      " 37.63806136 37.94883356 38.28025667 38.63294816 39.00755159 39.40473789\n",
      " 39.82520675 40.26968805 40.73894339 41.23376774 41.7549912  42.30348077\n",
      " 42.88014238 43.48592297 44.12181267 44.78884725 45.48811057 46.22073735\n",
      " 46.98791605 47.79089193 48.63097043 49.50952065 50.42797921 51.38785434\n",
      " 52.39073024 53.43827187 54.53223    55.67444673 56.86686143 58.1115171\n",
      " 59.41056739 60.76628402 62.18106497 63.65744332 65.19809681 66.80585837\n",
      " 68.48372745 70.23488249 72.06269448 73.97074187 75.96282684 78.04299319\n",
      " 80.21554603 82.48507344 84.85647035]\n"
     ]
    }
   ],
   "source": [
    "print(s)\n",
    "print(b)"
   ],
   "metadata": {
    "collapsed": false,
    "pycharm": {
     "name": "#%%\n"
    }
   }
  },
  {
   "cell_type": "code",
   "execution_count": 61,
   "outputs": [],
   "source": [
    "#last point\n",
    "xf= (b[b.size-1] +SL[SL.size-1])*P[l-1]/SL[SL.size-1]\n",
    "yf= b[b.size-1]\n",
    "X_F= np.insert(xf,0,P[P.size-1])\n",
    "Y_F= np.insert(yf,0,0)"
   ],
   "metadata": {
    "collapsed": false,
    "pycharm": {
     "name": "#%%\n"
    }
   }
  },
  {
   "cell_type": "markdown",
   "source": [
    "### Plotting the nozzle"
   ],
   "metadata": {
    "collapsed": false,
    "pycharm": {
     "name": "#%% md\n"
    }
   }
  },
  {
   "cell_type": "code",
   "execution_count": 62,
   "outputs": [
    {
     "data": {
      "text/plain": "[<matplotlib.lines.Line2D at 0x21ab52bc430>]"
     },
     "execution_count": 62,
     "metadata": {},
     "output_type": "execute_result"
    },
    {
     "data": {
      "text/plain": "<Figure size 432x288 with 1 Axes>",
      "image/png": "[encoded data removed]"
     },
     "metadata": {
      "needs_background": "light"
     },
     "output_type": "display_data"
    }
   ],
   "source": [
    "X_points= np.array([[0,xw]])\n",
    "Y_points= np.array([[TR,yw]])\n",
    "RTHROAT=TR\n",
    "REXIT=yw[yw.size-1]\n",
    "\n",
    "AR=(RTHROAT/REXIT)**2\n",
    "xw= np.insert(xw,0,0)\n",
    "yw=np.insert(yw,0,TR)\n",
    "\n",
    "plt.plot(xw,yw)\n"
   ],
   "metadata": {
    "collapsed": false,
    "pycharm": {
     "name": "#%%\n"
    }
   }
  },
  {
   "cell_type": "code",
   "execution_count": 63,
   "outputs": [
    {
     "name": "stdout",
     "output_type": "stream",
     "text": [
      "             0          1    2\n",
      "0     0.000000  35.000000  0.0\n",
      "1     2.095043  36.324445  0.0\n",
      "2     3.378501  37.122943  0.0\n",
      "3     4.692310  37.927140  0.0\n",
      "4     6.037638  38.737131  0.0\n",
      "..         ...        ...  ...\n",
      "59  207.299162  86.363659  0.0\n",
      "60  216.505946  86.733205  0.0\n",
      "61  226.169955  87.024128  0.0\n",
      "62  236.321769  87.227867  0.0\n",
      "63  246.994599  87.334965  0.0\n",
      "\n",
      "[64 rows x 3 columns]\n"
     ]
    }
   ],
   "source": [
    "# Saving to a CSV for Solidworks\n",
    "zw=np.zeros(64)\n",
    "pointsdf=pd.DataFrame(data=[xw,yw,zw])\n",
    "df=(pointsdf.T)\n",
    "print(df)\n",
    "\n",
    "np.savetxt(solidworksinputfile, df.values, fmt='%10.5f', delimiter='\\t')\n",
    "\n",
    "# END\n"
   ],
   "metadata": {
    "collapsed": false,
    "pycharm": {
     "name": "#%%\n"
    }
   }
  }
 ],
 "metadata": {
  "kernelspec": {
   "name": "python3",
   "language": "python",
   "display_name": "Python 3"
  },
  "language_info": {
   "codemirror_mode": {
    "name": "ipython",
    "version": 2
   },
   "file_extension": ".py",
   "mimetype": "text/x-python",
   "name": "python",
   "nbconvert_exporter": "python",
   "pygments_lexer": "ipython2",
   "version": "2.7.6"
  }
 },
 "nbformat": 4,
 "nbformat_minor": 0
}